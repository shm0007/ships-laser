{
 "cells": [
  {
   "cell_type": "code",
   "execution_count": 1,
   "metadata": {},
   "outputs": [],
   "source": [
    "# !pip install colour\n",
    "# !pip install pyglet\n",
    "# !pip install cocos2d\n",
    "# !pip install setuptools\n",
    "# !pip install six"
   ]
  },
  {
   "cell_type": "code",
   "execution_count": 2,
   "metadata": {},
   "outputs": [
    {
     "name": "stderr",
     "output_type": "stream",
     "text": [
      "C:\\python3\\lib\\site-packages\\pyglet\\image\\codecs\\wic.py:406: UserWarning: [WinError -2147417850] Cannot change thread mode after it is set\n",
      "  warnings.warn(str(err))\n"
     ]
    }
   ],
   "source": [
    "from ships_and_lasers import ShipsAndLasers"
   ]
  },
  {
   "cell_type": "code",
   "execution_count": 3,
   "metadata": {},
   "outputs": [],
   "source": [
    "game = ShipsAndLasers()"
   ]
  },
  {
   "cell_type": "code",
   "execution_count": 4,
   "metadata": {},
   "outputs": [],
   "source": [
    "game.setSimSpeed(1)"
   ]
  },
  {
   "cell_type": "code",
   "execution_count": 5,
   "metadata": {},
   "outputs": [],
   "source": [
    "game.currentMoney = 10000\n",
    "game.currentLevel = 20"
   ]
  },
  {
   "cell_type": "code",
   "execution_count": 6,
   "metadata": {},
   "outputs": [
    {
     "name": "stdout",
     "output_type": "stream",
     "text": [
      "you have 10000 credits to spend\n",
      "credits left over: 6600\n"
     ]
    }
   ],
   "source": [
    "game.setTurrets([\"red\", \"green\", \"blue\", \"pink\", \"rgb\"])"
   ]
  },
  {
   "cell_type": "code",
   "execution_count": 7,
   "metadata": {},
   "outputs": [
    {
     "ename": "NameError",
     "evalue": "name 'glPushMatrix' is not defined",
     "output_type": "error",
     "traceback": [
      "\u001b[1;31m---------------------------------------------------------------------------\u001b[0m",
      "\u001b[1;31mNameError\u001b[0m                                 Traceback (most recent call last)",
      "Input \u001b[1;32mIn [7]\u001b[0m, in \u001b[0;36m<cell line: 1>\u001b[1;34m()\u001b[0m\n\u001b[1;32m----> 1\u001b[0m \u001b[43mgame\u001b[49m\u001b[38;5;241;43m.\u001b[39;49m\u001b[43mnextWave\u001b[49m\u001b[43m(\u001b[49m\u001b[43m)\u001b[49m\n",
      "File \u001b[1;32mC:\\Amisco\\ships-and-lasers-main\\ships_and_lasers.py:832\u001b[0m, in \u001b[0;36mShipsAndLasers.nextWave\u001b[1;34m(self)\u001b[0m\n\u001b[0;32m    825\u001b[0m \u001b[38;5;66;03m# else:\u001b[39;00m\n\u001b[0;32m    826\u001b[0m \u001b[38;5;66;03m#     ShipsAndLasers.currentWorld = Worldview(self, fn_show_message=message_layer.show_message)\u001b[39;00m\n\u001b[0;32m    827\u001b[0m \u001b[38;5;66;03m# else:\u001b[39;00m\n\u001b[0;32m    828\u001b[0m \u001b[38;5;66;03m#     ShipsAndLasers.currentWorld.willResume = True\u001b[39;00m\n\u001b[0;32m    829\u001b[0m     \u001b[38;5;66;03m# ShipsAndLasers.currentWorld\u001b[39;00m\n\u001b[0;32m    830\u001b[0m \u001b[38;5;66;03m# playview.add(BackgroundSprite(pyglet.resource.image('res/background.png')))\u001b[39;00m\n\u001b[0;32m    831\u001b[0m scene\u001b[38;5;241m.\u001b[39madd(ShipsAndLasers\u001b[38;5;241m.\u001b[39mcurrentWorld, z\u001b[38;5;241m=\u001b[39m\u001b[38;5;241m0\u001b[39m)\n\u001b[1;32m--> 832\u001b[0m \u001b[43mdirector\u001b[49m\u001b[38;5;241;43m.\u001b[39;49m\u001b[43mrun\u001b[49m\u001b[43m(\u001b[49m\u001b[43mscene\u001b[49m\u001b[43m)\u001b[49m\n",
      "File \u001b[1;32mC:\\python3\\lib\\site-packages\\cocos\\director.py:384\u001b[0m, in \u001b[0;36mDirector.run\u001b[1;34m(self, scene)\u001b[0m\n\u001b[0;32m    380\u001b[0m \u001b[38;5;66;03m# workaround pyglet 1.3 not calling on_draw if nothing scheduled (at least in Windows)\u001b[39;00m\n\u001b[0;32m    381\u001b[0m \u001b[38;5;66;03m# also does a defered close, outside of on_draw and on_key_.. to not\u001b[39;00m\n\u001b[0;32m    382\u001b[0m \u001b[38;5;66;03m# emit spureous exception on console, see issue #334\u001b[39;00m\n\u001b[0;32m    383\u001b[0m pyglet\u001b[38;5;241m.\u001b[39mclock\u001b[38;5;241m.\u001b[39mschedule_interval(\u001b[38;5;28mself\u001b[39m\u001b[38;5;241m.\u001b[39mhandle_closing, \u001b[38;5;241m0.1\u001b[39m)\n\u001b[1;32m--> 384\u001b[0m \u001b[43mevent_loop\u001b[49m\u001b[38;5;241;43m.\u001b[39;49m\u001b[43mrun\u001b[49m\u001b[43m(\u001b[49m\u001b[43m)\u001b[49m\n",
      "File \u001b[1;32mC:\\python3\\lib\\site-packages\\pyglet\\app\\base.py:169\u001b[0m, in \u001b[0;36mEventLoop.run\u001b[1;34m(self)\u001b[0m\n\u001b[0;32m    166\u001b[0m \u001b[38;5;28mself\u001b[39m\u001b[38;5;241m.\u001b[39mis_running \u001b[38;5;241m=\u001b[39m \u001b[38;5;28;01mTrue\u001b[39;00m\n\u001b[0;32m    168\u001b[0m \u001b[38;5;28;01mwhile\u001b[39;00m \u001b[38;5;129;01mnot\u001b[39;00m \u001b[38;5;28mself\u001b[39m\u001b[38;5;241m.\u001b[39mhas_exit:\n\u001b[1;32m--> 169\u001b[0m     timeout \u001b[38;5;241m=\u001b[39m \u001b[38;5;28;43mself\u001b[39;49m\u001b[38;5;241;43m.\u001b[39;49m\u001b[43midle\u001b[49m\u001b[43m(\u001b[49m\u001b[43m)\u001b[49m\n\u001b[0;32m    170\u001b[0m     platform_event_loop\u001b[38;5;241m.\u001b[39mstep(timeout)\n\u001b[0;32m    172\u001b[0m \u001b[38;5;28mself\u001b[39m\u001b[38;5;241m.\u001b[39mis_running \u001b[38;5;241m=\u001b[39m \u001b[38;5;28;01mFalse\u001b[39;00m\n",
      "File \u001b[1;32mC:\\python3\\lib\\site-packages\\pyglet\\app\\base.py:245\u001b[0m, in \u001b[0;36mEventLoop.idle\u001b[1;34m(self)\u001b[0m\n\u001b[0;32m    243\u001b[0m \u001b[38;5;28;01mif\u001b[39;00m redraw_all \u001b[38;5;129;01mor\u001b[39;00m (window\u001b[38;5;241m.\u001b[39m_legacy_invalid \u001b[38;5;129;01mand\u001b[39;00m window\u001b[38;5;241m.\u001b[39minvalid):\n\u001b[0;32m    244\u001b[0m     window\u001b[38;5;241m.\u001b[39mswitch_to()\n\u001b[1;32m--> 245\u001b[0m     \u001b[43mwindow\u001b[49m\u001b[38;5;241;43m.\u001b[39;49m\u001b[43mdispatch_event\u001b[49m\u001b[43m(\u001b[49m\u001b[38;5;124;43m'\u001b[39;49m\u001b[38;5;124;43mon_draw\u001b[39;49m\u001b[38;5;124;43m'\u001b[39;49m\u001b[43m)\u001b[49m\n\u001b[0;32m    246\u001b[0m     window\u001b[38;5;241m.\u001b[39mflip()\n\u001b[0;32m    247\u001b[0m     window\u001b[38;5;241m.\u001b[39m_legacy_invalid \u001b[38;5;241m=\u001b[39m \u001b[38;5;28;01mFalse\u001b[39;00m\n",
      "File \u001b[1;32mC:\\python3\\lib\\site-packages\\pyglet\\window\\__init__.py:1353\u001b[0m, in \u001b[0;36mBaseWindow.dispatch_event\u001b[1;34m(self, *args)\u001b[0m\n\u001b[0;32m   1351\u001b[0m \u001b[38;5;28;01mdef\u001b[39;00m \u001b[38;5;21mdispatch_event\u001b[39m(\u001b[38;5;28mself\u001b[39m, \u001b[38;5;241m*\u001b[39margs):\n\u001b[0;32m   1352\u001b[0m     \u001b[38;5;28;01mif\u001b[39;00m \u001b[38;5;129;01mnot\u001b[39;00m \u001b[38;5;28mself\u001b[39m\u001b[38;5;241m.\u001b[39m_enable_event_queue \u001b[38;5;129;01mor\u001b[39;00m \u001b[38;5;28mself\u001b[39m\u001b[38;5;241m.\u001b[39m_allow_dispatch_event:\n\u001b[1;32m-> 1353\u001b[0m         \u001b[38;5;28;01mif\u001b[39;00m \u001b[43mEventDispatcher\u001b[49m\u001b[38;5;241;43m.\u001b[39;49m\u001b[43mdispatch_event\u001b[49m\u001b[43m(\u001b[49m\u001b[38;5;28;43mself\u001b[39;49m\u001b[43m,\u001b[49m\u001b[43m \u001b[49m\u001b[38;5;241;43m*\u001b[39;49m\u001b[43margs\u001b[49m\u001b[43m)\u001b[49m \u001b[38;5;241m!=\u001b[39m \u001b[38;5;28;01mFalse\u001b[39;00m:\n\u001b[0;32m   1354\u001b[0m             \u001b[38;5;28mself\u001b[39m\u001b[38;5;241m.\u001b[39m_legacy_invalid \u001b[38;5;241m=\u001b[39m \u001b[38;5;28;01mTrue\u001b[39;00m\n\u001b[0;32m   1355\u001b[0m     \u001b[38;5;28;01melse\u001b[39;00m:\n",
      "File \u001b[1;32mC:\\python3\\lib\\site-packages\\pyglet\\event.py:408\u001b[0m, in \u001b[0;36mEventDispatcher.dispatch_event\u001b[1;34m(self, event_type, *args)\u001b[0m\n\u001b[0;32m    406\u001b[0m \u001b[38;5;28;01mtry\u001b[39;00m:\n\u001b[0;32m    407\u001b[0m     invoked \u001b[38;5;241m=\u001b[39m \u001b[38;5;28;01mTrue\u001b[39;00m\n\u001b[1;32m--> 408\u001b[0m     \u001b[38;5;28;01mif\u001b[39;00m \u001b[43mhandler\u001b[49m\u001b[43m(\u001b[49m\u001b[38;5;241;43m*\u001b[39;49m\u001b[43margs\u001b[49m\u001b[43m)\u001b[49m:\n\u001b[0;32m    409\u001b[0m         \u001b[38;5;28;01mreturn\u001b[39;00m EVENT_HANDLED\n\u001b[0;32m    410\u001b[0m \u001b[38;5;28;01mexcept\u001b[39;00m \u001b[38;5;167;01mTypeError\u001b[39;00m \u001b[38;5;28;01mas\u001b[39;00m exception:\n",
      "File \u001b[1;32mC:\\python3\\lib\\site-packages\\cocos\\director.py:441\u001b[0m, in \u001b[0;36mDirector.on_draw\u001b[1;34m(self)\u001b[0m\n\u001b[0;32m    439\u001b[0m \u001b[38;5;66;03m# draw all the objects\u001b[39;00m\n\u001b[0;32m    440\u001b[0m gl\u001b[38;5;241m.\u001b[39mglPushMatrix()\n\u001b[1;32m--> 441\u001b[0m \u001b[38;5;28;43mself\u001b[39;49m\u001b[38;5;241;43m.\u001b[39;49m\u001b[43mscene\u001b[49m\u001b[38;5;241;43m.\u001b[39;49m\u001b[43mvisit\u001b[49m\u001b[43m(\u001b[49m\u001b[43m)\u001b[49m\n\u001b[0;32m    442\u001b[0m gl\u001b[38;5;241m.\u001b[39mglPopMatrix()\n\u001b[0;32m    444\u001b[0m \u001b[38;5;66;03m# finally show the FPS\u001b[39;00m\n",
      "File \u001b[1;32mC:\\python3\\lib\\site-packages\\cocos\\cocosnode.py:741\u001b[0m, in \u001b[0;36mCocosNode.visit\u001b[1;34m(self)\u001b[0m\n\u001b[0;32m    739\u001b[0m     \u001b[38;5;28mself\u001b[39m\u001b[38;5;241m.\u001b[39mtransform()\n\u001b[0;32m    740\u001b[0m     \u001b[38;5;28;01mfor\u001b[39;00m z, c \u001b[38;5;129;01min\u001b[39;00m \u001b[38;5;28mself\u001b[39m\u001b[38;5;241m.\u001b[39mchildren[position:]:\n\u001b[1;32m--> 741\u001b[0m         \u001b[43mc\u001b[49m\u001b[38;5;241;43m.\u001b[39;49m\u001b[43mvisit\u001b[49m\u001b[43m(\u001b[49m\u001b[43m)\u001b[49m\n\u001b[0;32m    742\u001b[0m     gl\u001b[38;5;241m.\u001b[39mglPopMatrix()\n\u001b[0;32m    744\u001b[0m \u001b[38;5;28;01mif\u001b[39;00m \u001b[38;5;28mself\u001b[39m\u001b[38;5;241m.\u001b[39mgrid \u001b[38;5;129;01mand\u001b[39;00m \u001b[38;5;28mself\u001b[39m\u001b[38;5;241m.\u001b[39mgrid\u001b[38;5;241m.\u001b[39mactive:\n",
      "File \u001b[1;32mC:\\python3\\lib\\site-packages\\cocos\\cocosnode.py:734\u001b[0m, in \u001b[0;36mCocosNode.visit\u001b[1;34m(self)\u001b[0m\n\u001b[0;32m    731\u001b[0m     gl\u001b[38;5;241m.\u001b[39mglPopMatrix()\n\u001b[0;32m    733\u001b[0m \u001b[38;5;66;03m# we draw ourselves\u001b[39;00m\n\u001b[1;32m--> 734\u001b[0m \u001b[38;5;28;43mself\u001b[39;49m\u001b[38;5;241;43m.\u001b[39;49m\u001b[43mdraw\u001b[49m\u001b[43m(\u001b[49m\u001b[43m)\u001b[49m\n\u001b[0;32m    736\u001b[0m \u001b[38;5;66;03m# we visit all the remaining nodes, that are over ourselves\u001b[39;00m\n\u001b[0;32m    737\u001b[0m \u001b[38;5;28;01mif\u001b[39;00m position \u001b[38;5;241m<\u001b[39m \u001b[38;5;28mlen\u001b[39m(\u001b[38;5;28mself\u001b[39m\u001b[38;5;241m.\u001b[39mchildren):\n",
      "File \u001b[1;32mC:\\Amisco\\ships-and-lasers-main\\ships_and_lasers.py:31\u001b[0m, in \u001b[0;36mBackgroundLayer.draw\u001b[1;34m(self)\u001b[0m\n\u001b[0;32m     30\u001b[0m \u001b[38;5;28;01mdef\u001b[39;00m \u001b[38;5;21mdraw\u001b[39m(\u001b[38;5;28mself\u001b[39m):\n\u001b[1;32m---> 31\u001b[0m     \u001b[43mglPushMatrix\u001b[49m()\n\u001b[0;32m     32\u001b[0m     \u001b[38;5;28mself\u001b[39m\u001b[38;5;241m.\u001b[39mtransform()\n\u001b[0;32m     33\u001b[0m     \u001b[38;5;28mself\u001b[39m\u001b[38;5;241m.\u001b[39mimg\u001b[38;5;241m.\u001b[39mblit(\u001b[38;5;241m0\u001b[39m, \u001b[38;5;241m0\u001b[39m)\n",
      "\u001b[1;31mNameError\u001b[0m: name 'glPushMatrix' is not defined"
     ]
    }
   ],
   "source": [
    "game.nextWave()"
   ]
  },
  {
   "cell_type": "code",
   "execution_count": null,
   "metadata": {},
   "outputs": [],
   "source": []
  }
 ],
 "metadata": {
  "kernelspec": {
   "display_name": "Python 3 (ipykernel)",
   "language": "python",
   "name": "python3"
  },
  "language_info": {
   "codemirror_mode": {
    "name": "ipython",
    "version": 3
   },
   "file_extension": ".py",
   "mimetype": "text/x-python",
   "name": "python",
   "nbconvert_exporter": "python",
   "pygments_lexer": "ipython3",
   "version": "3.9.7"
  }
 },
 "nbformat": 4,
 "nbformat_minor": 4
}
